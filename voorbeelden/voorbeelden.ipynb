{
 "cells": [
  {
   "cell_type": "markdown",
   "metadata": {},
   "source": [
    "<b>Een eigen repository voor veel voorkomende code bij de opleiding</b> <br>\n",
    "Link: https://github.com/deKeijzer/Data-Analytics-for-Applied-Physics\n",
    "\n",
    "Statistiek op data:\n",
    "![title](figuren/algemeen/console.png)\n",
    "\n",
    "Voorbeeld plots:\n",
    "![title](figuren/algemeen/hist.png)\n",
    "![title](figuren/algemeen/lin_reg.png)"
   ]
  },
  {
   "cell_type": "markdown",
   "metadata": {},
   "source": [
    "<b>Muonlab</b> <br>\n",
    "\n",
    "Data bewerking in Python, zie github: https://github.com/deKeijzer/Data-Analytics-for-Applied-Physics/blob/master/MuonLabIII_deltatime.py\n",
    "\n",
    "Resultaat:\n",
    "![title](figuren/muonlab/3/delta_time_sample_3.png)\n",
    "![title](figuren/muonlab/3/lifetime_sample_3.png)\n",
    "\n",
    "Literatuurwaarde muon levensduur in rust: 2,19 micro seconden."
   ]
  },
  {
   "cell_type": "markdown",
   "metadata": {},
   "source": [
    "<b>Meerdere plots in een figuur</b> <br>\n",
    "Link: https://github.com/deKeijzer/Data-Analytics-for-Applied-Physics/tree/master/Data/VO\n",
    "\n",
    "Frequentie metingen piezo element\n",
    "![title](figuren/vo/3.8.png)\n",
    "![title](figuren/vo/resultaat.png)"
   ]
  },
  {
   "cell_type": "markdown",
   "metadata": {},
   "source": [
    "<b>Accelerometer (ACC)</b> </br>\n",
    "Link: https://github.com/deKeijzer/Data-Analytics-for-Applied-Physics\n",
    "- Raspberry Pi met Sense Hat: https://www.raspberrypi.org/blog/sense-hat-projects/\n",
    "\n",
    "![title](figuren/acc/pi.jpg)\n",
    "\n",
    "Het hoogte verschil tussen de begane grond en 1e/2e verdieping word gemeten. <br\n",
    "\n",
    "<b>Ruwe data</b>\n",
    "![title](figuren/acc/Plots/acc raw/acc_5.png)\n",
    "![title](figuren/acc/Plots/acc raw/acc_6.png)\n",
    "![title](figuren/acc/Plots/acc raw/acc_11.png)\n",
    "![title](figuren/acc/Plots/acc raw/acc_18.png)\n",
    "\n",
    "<b>Data selectie</b> <br>\n",
    "Hoogte verschil d.m.v. <b>versnellingsmeter<b>, geselecteerde data is oranje. </br>\n",
    "    \n",
    "\n",
    "![title](figuren/acc/Plots/1 verdieping verschil/acc_6.png)\n",
    "![title](figuren/acc/Plots/1 verdieping verschil/acc_8.png)\n",
    "![title](figuren/acc/Plots/1 verdieping verschil/acc_10.png)\n",
    "![title](figuren/acc/Plots/1 verdieping verschil/acc_12.png)\n",
    "![title](figuren/acc/Plots/1 verdieping verschil/acc_15.png)\n",
    "![title](figuren/acc/Plots/1 verdieping verschil/acc_19.png)\n",
    "\n",
    "Merk op, veel verschillende data....\n",
    "\n",
    "<b>Hoogte verschil d.m.v. luchtdruk verschil</b> <br>\n",
    "Merk op, relatief klein verschil meetbaar.\n",
    "![title](figuren/acc/week4/plots/pressure_1.png)\n",
    "![title](figuren/acc/week4/plots/pressure_2.png)\n",
    "![title](figuren/acc/week4/plots/pressure_3.png)\n",
    "\n",
    "<b>Hoogte verschil d.m.v. slingerperiode (accelerometer)</b> <br>\n",
    "Raspberry pi aan een koord gehangen vanaf de loopbrug op de 2e verdieping, tot aan de vloer op de begane grond. <br>\n",
    "\n",
    "Ruwe data:\n",
    "![title](figuren/acc/week4/plots/slinger_2_raw.png)\n",
    "\n",
    "Geselecteerde data:\n",
    "![title](figuren/acc/week4/plots/slinger_2_ingezoomd.png)\n",
    "\n",
    "Resultaat: <br>\n",
    "Fourier analyse op geselecteerde data, slingerfrequentie rolt er uit.\n",
    "![title](figuren/acc/week4/plots/fourier_sample_1_z.png)\n",
    "\n",
    "<b>Calibratie</br> <br>\n",
    "Hetgeen waarmee je meet moet wel gecalibreerd zijn. <br>\n",
    "![title](figuren/acc/Acc calibratie/call_3.png)\n",
    "Bestandgroote 4 GB... Python is wel nodig, gaat je niet lukken met Excel.\n",
    "~15 miljoen datapunten\n",
    "\n",
    "<b>Calibratie resultaat</b>\n",
    "![title](figuren/acc/Resultaten/Calibratie incl. fit.png)\n",
    "![title](figuren/acc/Resultaten/Gauss calibratie +1 g.png)\n",
    "![title](figuren/acc/Resultaten/Gauss calibratie -1g.png)\n",
    "\n",
    "<b>Uiteindelijk resultaat</b>\n",
    "![title](figuren/acc/eindresultaat.png)"
   ]
  },
  {
   "cell_type": "markdown",
   "metadata": {},
   "source": [
    "<b>HiSPARC</b> <br>\n",
    "Anisotropie in de  richting van kosmische straling (Brian de Keijzer en Nikita Commandeur, Haagse Hogeschool, 2018):\n",
    "http://www.hisparc.nl/docent-student/werk-van-studenten/\n",
    "\n",
    "\n",
    "Zie: https://github.com/deKeijzer/HiSPARC-Onderzoeken-4"
   ]
  },
  {
   "cell_type": "markdown",
   "metadata": {},
   "source": [
    "<b>Financiën & Excel</b> <br>\n",
    "README: https://github.com/deKeijzer/Angstrom-financien\n",
    "    \n",
    "code: https://github.com/deKeijzer/Angstrom-financien/blob/master/txt%20naar%20excel.py"
   ]
  },
  {
   "cell_type": "markdown",
   "metadata": {},
   "source": [
    "<b>Overige links</b> <br>\n",
    "https://www.reddit.com/r/learnpython/ <br>\n",
    "https://www.reddit.com/r/python/ <br>\n",
    "http://stackoverflow.com <br>\n",
    "    \n",
    "https://kaggle.com <br>\n",
    "https://www.codecademy.com/ <br>"
   ]
  }
 ],
 "metadata": {
  "kernelspec": {
   "display_name": "Python 3",
   "language": "python",
   "name": "python3"
  },
  "language_info": {
   "codemirror_mode": {
    "name": "ipython",
    "version": 3
   },
   "file_extension": ".py",
   "mimetype": "text/x-python",
   "name": "python",
   "nbconvert_exporter": "python",
   "pygments_lexer": "ipython3",
   "version": "3.6.0"
  }
 },
 "nbformat": 4,
 "nbformat_minor": 2
}
